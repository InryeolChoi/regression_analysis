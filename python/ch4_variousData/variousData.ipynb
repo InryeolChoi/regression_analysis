{
 "cells": [
  {
   "cell_type": "markdown",
   "metadata": {},
   "source": [
    "# 다양한 데이터\n",
    "* 인제 회귀모형에서 x가 범주형인 상황을 다뤄보자.\n",
    "* 또, 각 변수들 간의 상호작용을 나타내는 항이 들어간 케이스도 살펴보자.\n",
    "* x가 일부는 범주형, 일부는 연속형이라면?"
   ]
  },
  {
   "cell_type": "markdown",
   "metadata": {},
   "source": [
    "# 예시코드"
   ]
  },
  {
   "cell_type": "markdown",
   "metadata": {},
   "source": []
  }
 ],
 "metadata": {
  "language_info": {
   "name": "python"
  }
 },
 "nbformat": 4,
 "nbformat_minor": 2
}
