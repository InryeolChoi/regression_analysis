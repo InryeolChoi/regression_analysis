{
 "cells": [
  {
   "cell_type": "markdown",
   "metadata": {},
   "source": [
    "# 회귀분석\n",
    "* 가장 기본적이고, 중요한 통계적 모형\n",
    "* 모형 = (함수 또는 방정식) + (확률분포)"
   ]
  },
  {
   "cell_type": "markdown",
   "metadata": {},
   "source": [
    "## 선형모형\n",
    "* 여기서 우리의 포커스는 선형모형을 회귀분석하는 것에 있음.  \n",
    "* 선형 = 우리의 관심인 변수(여기서는 $\\beta_i$)가 덧셈과 상수배로 이뤄져 있다는 뜻  \n",
    "* 모든 고전적 통계모형의 기본이라고 할 수 있음.  \n",
    "* 변수의 갯수에 따라 단순선형모형과 다중선형모형으로 나눌 수 있음.  \n",
    "\n",
    "## 무엇을 할 수 있는가?\n",
    "    - x가 주어질 때, Y의 평균을 파악해 미래를 예측 (추정의 영역)\n",
    "    - Y와 x의 관계를 파악. (가설검정의 영역)\n",
    "\n",
    "물론, 다양한 머신러닝 기법의 등장으로 선형모형만으로 추정을 하는 것은 어리석은 일.  \n",
    "그러나 그럼에도 불구하고 여전히...\n",
    "\n",
    "## 왜 선형모형인가?\n",
    "    - 해석이 쉬움 = 검정이 가능함\n",
    "    - 추정 과정에 너무 많은 힘을 기울이지 않아도 됨."
   ]
  },
  {
   "cell_type": "markdown",
   "metadata": {},
   "source": [
    "# 단순회귀\n",
    "다음과 같은 선형모형을 단순회귀모형이라고 함.\n",
    "\n",
    "$$\n",
    "Y = \\beta_0 + \\beta_1x + \\epsilon \\\\[5pt]\n",
    "\\epsilon \\sim N(0, \\sigma)\n",
    "$$\n",
    "\n",
    "* $Y$ : 종속변수. 기본적인 선형모형에서는 항상 연속형 데이터.\n",
    "* $x$ : 독립변수. 연속형 데이터와 이산형 데이터 모두가 될 수 있음.\n",
    "* $\\epsilon$ : 오차항. 확률변수.\n",
    "\n",
    "## 단순회귀의 가정\n",
    "> 단순회귀모형은 가정을 가지고 있음.\n",
    "1. 등분산성 : 모든 분산은 같음.\n",
    "2. 정규성 : 오차항은 무조건 정규분포, 평균이 0, 분산은 $\\sigma^2$를 따름.\n",
    "3. 선형성 : y와 x는 선형이어야 함.\n",
    "4. 독립성 : 각 x들은 서로 독립.\n",
    "\n",
    "단순회귀모형이라면 기본적으로 이 가정들을 무조건 만족해야 함.\n",
    "\n",
    "## 단순회귀의 추정\n",
    "$$\n",
    "Y = \\beta_0 + \\beta_1x + \\epsilon \\\\[5pt]\n",
    "\\epsilon \\sim N(0, \\sigma)\n",
    "$$\n",
    "\n",
    "무엇을 추정하는가? $\\beta_0$와 $\\beta_1$, 그리고 $\\sigma^2$  \n",
    "어떻게 추정하나요? 빈도주의를 따른다는 가정하에, 여러가지 방법이 있음.  \n",
    "1. OLS (ordinary least square)\n",
    "2. mle (maximum likelihood estimation)\n",
    "3. mme (method of moments)\n",
    "\n",
    "우리의 단순회귀가 4가지 가정을 만족한다고 했을 때, OLS를 쓸 수 있음."
   ]
  },
  {
   "cell_type": "markdown",
   "metadata": {},
   "source": [
    "## OLS의 원리\n",
    "![sse](../../_files/regression_sse.png)"
   ]
  },
  {
   "cell_type": "markdown",
   "metadata": {},
   "source": [
    "데이터(오렌지색 점)과 회귀선, 그리고 평균($\\bar{Y}$)를 보자.  \n",
    "* 데이터와 $\\bar{Y}$ 사이의 거리를 T(Total)라고 한다. 데이터와 전체 평균 간의 차이라고 보면 된다.\n",
    "* 데이터와 회귀선 사이의 거리를 E(Error) 라고 한다. \n",
    "* 회귀선과 $\\bar{Y}$ 사이의 거리를 R(Regress) 라고 한다.\n",
    "\n",
    "E는 회귀선을 통해 설명된 부분이다. 반면, E는 회귀선으로도 설명할 수 없는 부분이다.  \n",
    "우리의 목표는 회귀직선으로 최대한 많은 것을 설명하게 하는 것.  \n",
    "따라서 모든 데이터의 E를 줄이는 방향으로 회귀직선을 설정해야 한다.  \n",
    "회귀직선을 설정한다 == y절편($\\beta_0$)과 기울기($\\beta_1$)을 구하는 것!\n",
    "\n",
    "어떻게 모든 데이터의 E를 계산할 것인가?\n",
    "* 데이터 - (회귀선의 Y값)이 음수가 될 수도 있다. \n",
    "* 그런데, 우리는 거리를 계산해야 하므로 음수가 나와서는 안됨.\n",
    "* 따라서 E를 제곱하고(Squared), 그리고 전부 더한다(sum).\n",
    "그래서 이를 Sum of Squared Error, SSE라고 한다."
   ]
  },
  {
   "cell_type": "markdown",
   "metadata": {},
   "source": [
    "그럼, SSE를 어떻게 만들어야 하는가?\n",
    "$$\n",
    "f(\\beta_0, \\beta_1) = \\sum_{i=1}^{n}~(Y_i - (\\beta_0 + \\beta_1x_i))^2\n",
    "$$\n",
    "\n",
    "이 함수을 우리는 손실함수(loss function)이라고도 한다.\n",
    "\n",
    "여기에서 어떻게 SSE를 최소화할 것인가? 편미분을 활용하면 된다.\n",
    "$$\n",
    "\\frac{\\partial}{\\partial \\beta_0}~f(\\beta_0, \\beta_1) = 0 \\\\[10pt]\n",
    "\\frac{\\partial}{\\partial \\beta_1}~f(\\beta_0, \\beta_1) = 0\n",
    "$$\n",
    "\n",
    "이를 이용해 $\\beta_0$, $\\beta_1$을 구한다.\n",
    "\n",
    "또한, 이 SSE를 이용해서 $\\sigma^2$ 역시 추정가능하다.\n",
    "$$\n",
    "\\sigma^2 = \\frac{SSE}{n-2}\n",
    "$$"
   ]
  },
  {
   "cell_type": "markdown",
   "metadata": {},
   "source": [
    "## 단순회귀의 검정\n",
    "통계적 검정은 언제나 같은 과정을 거친다.\n",
    "1. 가설의 설정\n",
    "2. 유의수준 $\\alpha$의 설정\n",
    "3. 검정통계량의 설정\n",
    "4. 검정하기\n",
    "    1. p-value < $\\alpha$ 면 기각.\n",
    "    2. 검정통계량 T > 임계값(critical value) 면 기각\n",
    "\n",
    "**<t검정>**\n",
    "* 단순회귀에서는 주로 t검정을 진행한다.\n",
    "* 이 경우, 검정통계량이 따르는 분포는 t분포가 된다.  \n",
    "* 가설의 종류에 따라서 단측가설, 양측가설이 될 수 있으며 t분포는 둘 다 할 수 있다."
   ]
  },
  {
   "cell_type": "markdown",
   "metadata": {},
   "source": [
    "## 주로 나오는 검정\n",
    "1. $H_0 : \\beta_0 = a$ vs $H_1 : \\beta_0 \\neq a$ (양측검정)\n",
    "2. $H_0 : \\beta_0 = a$ vs $H_1 : \\beta_0 > a$ (단측검정)"
   ]
  },
  {
   "cell_type": "markdown",
   "metadata": {},
   "source": [
    "# 코드 예시\n",
    "* Regression Analysis by example, chapter 2의 문제들을 이용\n",
    "* 단순히 문제만 푸는 것이 아닌 확장하는 것에 초점을 맞춤."
   ]
  },
  {
   "cell_type": "code",
   "execution_count": 2,
   "metadata": {},
   "outputs": [],
   "source": [
    "import numpy as np\n",
    "import pandas as pd\n",
    "import matplotlib.pyplot as plt\n",
    "from sklearn.linear_model import LinearRegression"
   ]
  },
  {
   "cell_type": "markdown",
   "metadata": {},
   "source": [
    "### 2-12\n",
    "- 데이터 : 34개의 신문의 주중 및 일요일 판매부수(단위 : 천)\n",
    "- 목적 : 어떤 대도시 신문의 일요일판 판매에 관한 조사"
   ]
  },
  {
   "cell_type": "code",
   "execution_count": 4,
   "metadata": {},
   "outputs": [
    {
     "data": {
      "text/html": [
       "<div>\n",
       "<style scoped>\n",
       "    .dataframe tbody tr th:only-of-type {\n",
       "        vertical-align: middle;\n",
       "    }\n",
       "\n",
       "    .dataframe tbody tr th {\n",
       "        vertical-align: top;\n",
       "    }\n",
       "\n",
       "    .dataframe thead th {\n",
       "        text-align: right;\n",
       "    }\n",
       "</style>\n",
       "<table border=\"1\" class=\"dataframe\">\n",
       "  <thead>\n",
       "    <tr style=\"text-align: right;\">\n",
       "      <th></th>\n",
       "      <th>Newspaper</th>\n",
       "      <th>Daily</th>\n",
       "      <th>Sunday</th>\n",
       "    </tr>\n",
       "  </thead>\n",
       "  <tbody>\n",
       "    <tr>\n",
       "      <th>0</th>\n",
       "      <td>Baltimore Sun</td>\n",
       "      <td>391.952</td>\n",
       "      <td>488.506</td>\n",
       "    </tr>\n",
       "    <tr>\n",
       "      <th>1</th>\n",
       "      <td>Boston Globe</td>\n",
       "      <td>516.981</td>\n",
       "      <td>798.298</td>\n",
       "    </tr>\n",
       "    <tr>\n",
       "      <th>2</th>\n",
       "      <td>Boston Herald</td>\n",
       "      <td>355.628</td>\n",
       "      <td>235.084</td>\n",
       "    </tr>\n",
       "    <tr>\n",
       "      <th>3</th>\n",
       "      <td>Charlotte Observer</td>\n",
       "      <td>238.555</td>\n",
       "      <td>299.451</td>\n",
       "    </tr>\n",
       "    <tr>\n",
       "      <th>4</th>\n",
       "      <td>Chicago Sun Times</td>\n",
       "      <td>537.780</td>\n",
       "      <td>559.093</td>\n",
       "    </tr>\n",
       "  </tbody>\n",
       "</table>\n",
       "</div>"
      ],
      "text/plain": [
       "            Newspaper    Daily   Sunday\n",
       "0       Baltimore Sun  391.952  488.506\n",
       "1        Boston Globe  516.981  798.298\n",
       "2       Boston Herald  355.628  235.084\n",
       "3  Charlotte Observer  238.555  299.451\n",
       "4   Chicago Sun Times  537.780  559.093"
      ]
     },
     "execution_count": 4,
     "metadata": {},
     "output_type": "execute_result"
    }
   ],
   "source": [
    "data = pd.read_table(\"../../dataset/P054.txt\", sep='\\t')\n",
    "data.head()"
   ]
  },
  {
   "cell_type": "markdown",
   "metadata": {},
   "source": [
    "**1번 문항**\n",
    "* 일요일 판매부수 대 주중 판매부수의 산점도 그리기\n",
    "* 선형관계에 있는지 알아보기"
   ]
  },
  {
   "cell_type": "code",
   "execution_count": null,
   "metadata": {},
   "outputs": [],
   "source": []
  }
 ],
 "metadata": {
  "kernelspec": {
   "display_name": "myenv",
   "language": "python",
   "name": "python3"
  },
  "language_info": {
   "codemirror_mode": {
    "name": "ipython",
    "version": 3
   },
   "file_extension": ".py",
   "mimetype": "text/x-python",
   "name": "python",
   "nbconvert_exporter": "python",
   "pygments_lexer": "ipython3",
   "version": "3.12.5"
  }
 },
 "nbformat": 4,
 "nbformat_minor": 2
}
