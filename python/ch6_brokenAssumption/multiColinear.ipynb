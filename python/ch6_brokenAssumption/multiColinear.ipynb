{
 "cells": [
  {
   "cell_type": "markdown",
   "metadata": {},
   "source": [
    "# 데이터 생성"
   ]
  },
  {
   "cell_type": "code",
   "execution_count": 6,
   "metadata": {},
   "outputs": [],
   "source": [
    "import numpy as np\n",
    "import pandas as pd\n",
    "import seaborn as sns\n",
    "import matplotlib.pyplot as plt\n",
    "from sklearn.linear_model import LinearRegression\n",
    "from sklearn.preprocessing import FunctionTransformer\n",
    "import statsmodels.formula.api as smf\n",
    "import statsmodels.api as sm\n",
    "import matplotlib.pyplot as plt\n",
    "import seaborn as sns"
   ]
  },
  {
   "cell_type": "code",
   "execution_count": 7,
   "metadata": {},
   "outputs": [],
   "source": [
    "# 데이터 생성\n",
    "np.random.seed(42)\n",
    "x1 = np.random.normal(size=100)\n",
    "x2 = 2 * x1 + np.random.normal(size=100)  # 다중공선성을 가진 변수\n",
    "y = 5 + 3 * x1 + np.random.normal(size=100)\n",
    "\n",
    "# 데이터 프레임 생성\n",
    "df_multicol = pd.DataFrame({'x1': x1, 'x2': x2, 'y': y})\n"
   ]
  },
  {
   "cell_type": "markdown",
   "metadata": {},
   "source": [
    "# EDA로 다중공선성 탐색"
   ]
  },
  {
   "cell_type": "code",
   "execution_count": 8,
   "metadata": {},
   "outputs": [
    {
     "data": {
      "image/png": "[encoded data removed]",
      "text/plain": [
       "<Figure size 640x480 with 2 Axes>"
      ]
     },
     "metadata": {},
     "output_type": "display_data"
    }
   ],
   "source": [
    "# EDA\n",
    "sns.heatmap(df_multicol.corr(), annot=True, cmap='coolwarm')\n",
    "plt.title('Correlation Matrix')\n",
    "plt.show()"
   ]
  },
  {
   "cell_type": "code",
   "execution_count": 9,
   "metadata": {},
   "outputs": [
    {
     "name": "stdout",
     "output_type": "stream",
     "text": [
      "  Variable       VIF\n",
      "0    const  1.013270\n",
      "1       x1  4.185663\n",
      "2       x2  4.185663\n"
     ]
    }
   ],
   "source": [
    "from statsmodels.stats.outliers_influence import variance_inflation_factor\n",
    "\n",
    "# 디자인 행렬 생성\n",
    "X_multicol = df_multicol[['x1', 'x2']]\n",
    "X_multicol = sm.add_constant(X_multicol)\n",
    "\n",
    "# VIF 계산\n",
    "vif = pd.DataFrame()\n",
    "vif['Variable'] = X_multicol.columns\n",
    "vif['VIF'] = [variance_inflation_factor(X_multicol.values, i) for i in range(X_multicol.shape[1])]\n",
    "\n",
    "print(vif)"
   ]
  },
  {
   "cell_type": "markdown",
   "metadata": {},
   "source": [
    "# 변수 제거후 적합"
   ]
  },
  {
   "cell_type": "code",
   "execution_count": 10,
   "metadata": {},
   "outputs": [
    {
     "name": "stdout",
     "output_type": "stream",
     "text": [
      "                            OLS Regression Results                            \n",
      "==============================================================================\n",
      "Dep. Variable:                      y   R-squared:                       0.884\n",
      "Model:                            OLS   Adj. R-squared:                  0.882\n",
      "Method:                 Least Squares   F-statistic:                     743.4\n",
      "Date:                Tue, 20 Aug 2024   Prob (F-statistic):           1.50e-47\n",
      "Time:                        14:53:42   Log-Likelihood:                -147.63\n",
      "No. Observations:                 100   AIC:                             299.3\n",
      "Df Residuals:                      98   BIC:                             304.5\n",
      "Df Model:                           1                                         \n",
      "Covariance Type:            nonrobust                                         \n",
      "==============================================================================\n",
      "                 coef    std err          t      P>|t|      [0.025      0.975]\n",
      "------------------------------------------------------------------------------\n",
      "const          5.0886      0.108     47.256      0.000       4.875       5.302\n",
      "x1             3.2278      0.118     27.265      0.000       2.993       3.463\n",
      "==============================================================================\n",
      "Omnibus:                        3.154   Durbin-Watson:                   2.216\n",
      "Prob(Omnibus):                  0.207   Jarque-Bera (JB):                3.133\n",
      "Skew:                           0.105   Prob(JB):                        0.209\n",
      "Kurtosis:                       3.841   Cond. No.                         1.16\n",
      "==============================================================================\n",
      "\n",
      "Notes:\n",
      "[1] Standard Errors assume that the covariance matrix of the errors is correctly specified.\n"
     ]
    }
   ],
   "source": [
    "# x2 제거 후 모델 적합\n",
    "X_reduced = X_multicol[['const', 'x1']]\n",
    "model_reduced = sm.OLS(df_multicol['y'], X_reduced).fit()\n",
    "print(model_reduced.summary())"
   ]
  },
  {
   "cell_type": "markdown",
   "metadata": {},
   "source": [
    "# 주성분회귀"
   ]
  },
  {
   "cell_type": "code",
   "execution_count": 11,
   "metadata": {},
   "outputs": [],
   "source": [
    "from sklearn.decomposition import PCA\n",
    "from sklearn.linear_model import LinearRegression\n",
    "from sklearn.pipeline import make_pipeline\n",
    "from sklearn.preprocessing import StandardScaler\n",
    "from sklearn.model_selection import cross_val_score"
   ]
  },
  {
   "cell_type": "code",
   "execution_count": 12,
   "metadata": {},
   "outputs": [
    {
     "name": "stdout",
     "output_type": "stream",
     "text": [
      "PCR R^2 scores: [0.88906447 0.87995687 0.80043203 0.87948359 0.8491358 ]\n",
      "Mean PCR R^2 score: 0.8596145539678572\n"
     ]
    }
   ],
   "source": [
    "# 주성분 회귀 수행\n",
    "pca = PCA()\n",
    "lr = LinearRegression()\n",
    "pipeline = make_pipeline(StandardScaler(), pca, lr)\n",
    "pipeline.fit(df_multicol[['x1', 'x2']], df_multicol['y'])\n",
    "\n",
    "# 주성분 회귀 성능 평가\n",
    "scores = cross_val_score(pipeline, df_multicol[['x1', 'x2']], df_multicol['y'], cv=5, scoring='r2')\n",
    "print(\"PCR R^2 scores:\", scores)\n",
    "print(\"Mean PCR R^2 score:\", np.mean(scores))"
   ]
  },
  {
   "cell_type": "markdown",
   "metadata": {},
   "source": [
    "# 벌점화회귀"
   ]
  },
  {
   "cell_type": "code",
   "execution_count": 15,
   "metadata": {},
   "outputs": [],
   "source": [
    "from sklearn.linear_model import Ridge, Lasso"
   ]
  },
  {
   "cell_type": "code",
   "execution_count": 16,
   "metadata": {},
   "outputs": [],
   "source": [
    "# 데이터 준비\n",
    "X = df_multicol[['x1', 'x2']]\n",
    "y = df_multicol['y']"
   ]
  },
  {
   "cell_type": "code",
   "execution_count": 17,
   "metadata": {},
   "outputs": [
    {
     "name": "stdout",
     "output_type": "stream",
     "text": [
      "Ridge coefficients: [3.09317565 0.05212899]\n"
     ]
    }
   ],
   "source": [
    "# Ridge 회귀\n",
    "ridge = Ridge(alpha=1.0)\n",
    "ridge.fit(X, y)\n",
    "print(\"Ridge coefficients:\", ridge.coef_)"
   ]
  },
  {
   "cell_type": "code",
   "execution_count": 18,
   "metadata": {},
   "outputs": [
    {
     "name": "stdout",
     "output_type": "stream",
     "text": [
      "Lasso coefficients: [2.94902684 0.08431999]\n"
     ]
    }
   ],
   "source": [
    "# Lasso 회귀\n",
    "lasso = Lasso(alpha=0.1)\n",
    "lasso.fit(X, y)\n",
    "print(\"Lasso coefficients:\", lasso.coef_)"
   ]
  }
 ],
 "metadata": {
  "kernelspec": {
   "display_name": "myenv",
   "language": "python",
   "name": "python3"
  },
  "language_info": {
   "codemirror_mode": {
    "name": "ipython",
    "version": 3
   },
   "file_extension": ".py",
   "mimetype": "text/x-python",
   "name": "python",
   "nbconvert_exporter": "python",
   "pygments_lexer": "ipython3",
   "version": "3.12.5"
  }
 },
 "nbformat": 4,
 "nbformat_minor": 2
}
