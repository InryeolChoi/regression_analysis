{
 "cells": [
  {
   "cell_type": "code",
   "execution_count": null,
   "metadata": {},
   "outputs": [],
   "source": [
    "import numpy as np\n",
    "import pandas as pd\n",
    "import matplotlib.pyplot as plt"
   ]
  },
  {
   "cell_type": "markdown",
   "metadata": {},
   "source": [
    "# Broken Asssumption\n",
    "만약 선형회귀의 모형의 가정이 부러졌다면?\n",
    "* 어떻게 부러졌다는 것을 알것인가?\n",
    "* 어떻게 대처할 것인가?\n",
    "\n",
    "# 선형성이 깨진 경우\n",
    "* 선형성 확인하기\n",
    "1. 변수변환\n",
    "\n",
    "# 등분산성이 깨진 경우\n",
    "* 등분산성 확인하기\n",
    "1. WLS\n",
    "2. GLS\n",
    "\n",
    "# 다중공선성\n",
    "* 다중공선성 찾기 : tolearance, vif\n",
    "1. 변수제거\n",
    "2. PCR(주성분회귀) : PCA를 활용한 회귀\n",
    "3. Ridge & Lasso"
   ]
  }
 ],
 "metadata": {
  "language_info": {
   "name": "python"
  }
 },
 "nbformat": 4,
 "nbformat_minor": 2
}
