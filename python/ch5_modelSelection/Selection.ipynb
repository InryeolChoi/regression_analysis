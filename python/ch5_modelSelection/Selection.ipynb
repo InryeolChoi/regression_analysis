{
 "cells": [
  {
   "cell_type": "markdown",
   "metadata": {},
   "source": [
    "# 모형선택"
   ]
  },
  {
   "cell_type": "markdown",
   "metadata": {},
   "source": [
    "* 모형 선택은 주어진 데이터에 대해 가장 적합한 회귀모형을 선택하는 과정이다.\n",
    "\n",
    "* 현대의 빅데이터 시대에는 모형을 만드는데 있어서 여러가지 고민이 들 수 있다. \n",
    "\n",
    "* 예를 들어, 상호작용 변수을 어디서부터 어떻게 추가해야 할지 고민될 수도 있고, 고전적인 선형회귀 뿐만이 아니라 최신 머신러닝 기법을 적용할지에 대한 고민이 많이 들 수 있다. \n",
    "\n",
    "* 이럴 때 모형선택이 필요하다. 과적합을 최소화하면서도, 예측력을 극대화하는 과정에 도움을 주기 때문"
   ]
  },
  {
   "cell_type": "markdown",
   "metadata": {},
   "source": [
    "# 모형선택의 기준"
   ]
  },
  {
   "cell_type": "markdown",
   "metadata": {},
   "source": [
    "## 1. 결정계수\n",
    "- **$R^2$**: $R^2$은 결정계수로, 모형이 데이터의 변동성을 얼마나 잘 설명하는지를 나타내는 지표다. \n",
    "\n",
    "- 0에서 1 사이의 값을 가지며, 값이 클수록 모형이 데이터를 잘 설명한다고 해석된다. \n",
    "\n",
    "- 그러나 $R^2$ 값은 독립 변수의 수가 증가하면 자연스럽게 커지는 경향이 있어, 단순히 $R^2$ 값만으로 모형의 적합도를 판단하는 것은 한계가 있다.\n",
    "  \n",
    "- **조정된 $R^2$** : 조정된 $R^2$은 $R^2$의 단점을 보완한 지표로, 독립 변수의 개수를 고려하여 조정된 값이다. \n",
    "\n",
    "- 조정된 $R^2$은 독립 변수의 개수가 증가해도 과도한 상승을 억제하며, 모형의 복잡도와 설명력을 균형 있게 평가한다.\n",
    "\n",
    "$$\n",
    "\\text{Adjusted } R^2 = 1 - \\left( \\frac{(1-R^2)(n-1)}{n-p-1} \\right)\n",
    "$$\n",
    "\n",
    "여기서 $n$은 데이터 포인트 수, $p$는 독립 변수의 수이다.\n"
   ]
  },
  {
   "cell_type": "markdown",
   "metadata": {},
   "source": [
    "## 2. Mallows' Cp\n",
    "\n",
    "Mallows' Cp는 모형의 편향과 분산 사이의 균형을 평가하기 위해 사용되는 지표다. 주어진 모형의 Cp 값이 독립 변수의 수와 비슷하거나 작다면, 그 모형은 데이터에 대해 적절한 설명력을 갖춘 것으로 간주될 수 있다. Cp 값이 낮을수록 모형이 좋다고 평가된다.\n",
    "\n",
    "$$\n",
    "\\text{Cp} = \\frac{\\text{RSS}}{\\sigma^2} + 2p - n\n",
    "$$\n",
    "\n",
    "여기서 \\(\\text{RSS}\\)는 잔차제곱합, \\(\\sigma^2\\)는 오차의 분산, \\(p\\)는 모형의 파라미터 수, \\(n\\)은 데이터 포인트 수다.\n",
    "\n"
   ]
  },
  {
   "cell_type": "markdown",
   "metadata": {},
   "source": [
    "## 3. Stepwise 방법과 AIC / BIC\n",
    "\n",
    "- **Stepwise**: Stepwise 방법은 변수 선택의 자동화된 방법으로, 변수를 하나씩 추가하거나 제거하면서 최적의 모형을 찾는다. 이 과정에서 모형의 적합도를 평가하기 위해 AIC(Akaike Information Criterion)나 BIC(Bayesian Information Criterion)를 사용한다.\n",
    "\n",
    "- **AIC**: AIC는 모형의 적합도와 복잡도 사이의 균형을 평가하는 지표다. 값이 낮을수록 모형의 적합도가 높고, 불필요하게 복잡하지 않음을 의미한다.\n",
    "\n",
    "$$\n",
    "\\text{AIC} = 2p - 2\\ln(L)\n",
    "$$\n",
    "\n",
    "여기서 \\(p\\)는 파라미터 수, \\(L\\)은 최대우도함수(Maximum Likelihood) 값이다.\n",
    "\n",
    "- **BIC**: BIC는 AIC와 유사하지만, 모델에 포함된 변수의 수에 대한 패널티가 더 강하게 적용된다. 데이터 포인트 수가 많아질수록 BIC는 더 큰 패널티를 부과하며, 단순한 모델을 선호한다.\n",
    "\n",
    "$$\n",
    "\\text{BIC} = \\ln(n)p - 2\\ln(L)\n",
    "$$\n",
    "\n",
    "여기서 \\(n\\)은 데이터 포인트 수이다."
   ]
  },
  {
   "cell_type": "markdown",
   "metadata": {},
   "source": [
    "## 4. 교차검증 (Cross-Validation)\n",
    "\n",
    "교차검증은 데이터셋을 여러 부분으로 나누어, 각 부분을 검증 데이터로 사용해 모형의 성능을 평가하는 방법이다. \n",
    "\n",
    "일반적으로 k-폴드 교차검증을 많이 사용한다.\n",
    "\n",
    "데이터셋을 k개의 부분으로 나눈 후, 각 부분을 검증 데이터로 사용하고 나머지 부분을 훈련 데이터로 사용해 모델을 학습시킨다. \n",
    "\n",
    "모든 k개의 폴드에 대해 모형을 평가하고 평균을 내어 모형의 일반화 성능을 추정한다. \n",
    "\n",
    "교차검증은 특히 데이터가 적은 경우나 과적합을 방지하고자 할 때 유용하다."
   ]
  },
  {
   "cell_type": "markdown",
   "metadata": {},
   "source": [
    "# 예제코드"
   ]
  },
  {
   "cell_type": "code",
   "execution_count": 2,
   "metadata": {},
   "outputs": [],
   "source": [
    "import platform\n",
    "import matplotlib as mat\n",
    "import ssl\n",
    "\n",
    "if platform.system() == 'Darwin':\n",
    "    mat.rc('font', family='AppleGothic')\n",
    "    mat.rcParams['axes.unicode_minus'] = False\n",
    "\n",
    "ssl._create_default_https_context = ssl._create_unverified_context"
   ]
  },
  {
   "cell_type": "code",
   "execution_count": 26,
   "metadata": {},
   "outputs": [],
   "source": [
    "import pandas as pd\n",
    "import numpy as np\n",
    "import statsmodels.api as sm\n",
    "from sklearn.datasets import fetch_california_housing\n",
    "from sklearn.model_selection import train_test_split, cross_val_score, KFold\n",
    "from sklearn.linear_model import LinearRegression\n",
    "from itertools import combinations\n",
    "import matplotlib.pyplot as plt"
   ]
  },
  {
   "cell_type": "markdown",
   "metadata": {},
   "source": [
    "## 1. 데이터 불러오기"
   ]
  },
  {
   "cell_type": "code",
   "execution_count": 27,
   "metadata": {},
   "outputs": [],
   "source": [
    "# 데이터 불러오기\n",
    "california = fetch_california_housing()\n",
    "X = pd.DataFrame(california.data, columns=california.feature_names)\n",
    "y = pd.Series(california.target, name='PRICE')\n",
    "\n",
    "# 데이터 분할\n",
    "X_train, X_test, y_train, y_test = train_test_split(X, y, test_size=0.3, random_state=42)"
   ]
  },
  {
   "cell_type": "markdown",
   "metadata": {},
   "source": [
    "## 2. 조합의 생성"
   ]
  },
  {
   "cell_type": "code",
   "execution_count": 35,
   "metadata": {},
   "outputs": [],
   "source": [
    "# 선택된 상호작용 항 생성\n",
    "def create_selected_interaction_terms(X, selected_pairs):\n",
    "    interaction_terms = pd.DataFrame(index=X.index)\n",
    "    for (col1, col2) in selected_pairs:\n",
    "        interaction_terms[f'{col1}:{col2}'] = X[col1] * X[col2]\n",
    "    return pd.concat([X, interaction_terms], axis=1)\n",
    "\n",
    "# 예를 들어 이 두 변수의 상호작용을 추가\n",
    "selected_pairs = [\n",
    "    ('MedInc', 'AveOccup'), \n",
    "    ('HouseAge', 'AveRooms'), \n",
    "    ('AveRooms', 'AveOccup'),\n",
    "    ('MedInc', 'HouseAge')\n",
    "]\n",
    "\n",
    "X_train_interactions = create_selected_interaction_terms(X_train, selected_pairs)\n",
    "X_test_interactions = create_selected_interaction_terms(X_test, selected_pairs)"
   ]
  },
  {
   "cell_type": "markdown",
   "metadata": {},
   "source": [
    "## 3. 결정계수로 변수 선택"
   ]
  },
  {
   "cell_type": "code",
   "execution_count": 36,
   "metadata": {},
   "outputs": [
    {
     "name": "stdout",
     "output_type": "stream",
     "text": [
      "Best R^2 variables: ('MedInc', 'HouseAge', 'AveRooms', 'AveBedrms', 'Population', 'AveOccup', 'Latitude', 'Longitude', 'MedInc:AveOccup', 'HouseAge:AveRooms', 'AveRooms:AveOccup', 'MedInc:HouseAge')\n",
      "Best Adjusted R^2 variables: ('MedInc', 'HouseAge', 'AveRooms', 'AveBedrms', 'AveOccup', 'Latitude', 'Longitude', 'MedInc:AveOccup', 'HouseAge:AveRooms', 'AveRooms:AveOccup', 'MedInc:HouseAge')\n"
     ]
    }
   ],
   "source": [
    "def select_best_r2_adj_r2(X, y):\n",
    "    best_r2 = -np.inf\n",
    "    best_r2_adj = -np.inf\n",
    "    for k in range(1, len(X.columns) + 1):\n",
    "        for combo in combinations(X.columns, k):\n",
    "            X_combo = sm.add_constant(X[list(combo)])\n",
    "            model = sm.OLS(y, X_combo).fit()\n",
    "            if model.rsquared > best_r2:\n",
    "                best_r2 = model.rsquared\n",
    "                best_model_r2 = combo\n",
    "            if model.rsquared_adj > best_r2_adj:\n",
    "                best_r2_adj = model.rsquared_adj\n",
    "                best_model_r2_adj = combo\n",
    "    return best_model_r2, best_model_r2_adj\n",
    "\n",
    "best_r2_vars, best_r2_adj_vars = select_best_r2_adj_r2(X_train_interactions, y_train)\n",
    "print(\"Best R^2 variables:\", best_r2_vars)\n",
    "print(\"Best Adjusted R^2 variables:\", best_r2_adj_vars)"
   ]
  },
  {
   "cell_type": "markdown",
   "metadata": {},
   "source": [
    "## 4. Mallow's Cp 이용"
   ]
  },
  {
   "cell_type": "code",
   "execution_count": 37,
   "metadata": {},
   "outputs": [
    {
     "name": "stdout",
     "output_type": "stream",
     "text": [
      "Best Mallows' Cp variables: ('MedInc',)\n"
     ]
    }
   ],
   "source": [
    "# Mallows' Cp 계산\n",
    "def select_best_mallows_cp(X, y):\n",
    "    best_cp = np.inf\n",
    "    n = len(y)\n",
    "    for k in range(1, len(X.columns) + 1):\n",
    "        for combo in combinations(X.columns, k):\n",
    "            X_combo = sm.add_constant(X[list(combo)])\n",
    "            model = sm.OLS(y, X_combo).fit()\n",
    "            cp = (model.ssr / model.mse_resid) + 2 * len(model.params) - n\n",
    "            if cp < best_cp:\n",
    "                best_cp = cp\n",
    "                best_model_cp = combo\n",
    "    return best_model_cp\n",
    "\n",
    "best_cp_vars = select_best_mallows_cp(X_train_interactions, y_train)\n",
    "print(\"Best Mallows' Cp variables:\", best_cp_vars)"
   ]
  },
  {
   "cell_type": "markdown",
   "metadata": {},
   "source": [
    "## 5. stepwise 이용"
   ]
  },
  {
   "cell_type": "code",
   "execution_count": 39,
   "metadata": {},
   "outputs": [
    {
     "name": "stdout",
     "output_type": "stream",
     "text": [
      "Best AIC variables: []\n",
      "Best BIC variables: []\n"
     ]
    }
   ],
   "source": [
    "def stepwise_selection(X, y, criterion='AIC'):\n",
    "    included = []\n",
    "    while True:\n",
    "        changed = False\n",
    "        # forward step\n",
    "        excluded = list(set(X.columns) - set(included))\n",
    "        new_pval = pd.Series(index=excluded)\n",
    "        for new_column in excluded:\n",
    "            model = sm.OLS(y, sm.add_constant(X[included + [new_column]])).fit()\n",
    "            new_pval[new_column] = model.aic if criterion == 'AIC' else model.bic\n",
    "        best_pval = new_pval.min()\n",
    "        if best_pval < 0.01:\n",
    "            best_feature = new_pval.idxmin()\n",
    "            included.append(best_feature)\n",
    "            changed = True\n",
    "        # backward step\n",
    "        model = sm.OLS(y, sm.add_constant(X[included])).fit()\n",
    "        worst_pval = model.pvalues.iloc[1:].max()  # p-value of the worst variable\n",
    "        if worst_pval > 0.05:\n",
    "            worst_feature = model.pvalues.idxmax()\n",
    "            included.remove(worst_feature)\n",
    "            changed = True\n",
    "        if not changed:\n",
    "            break\n",
    "    return included\n",
    "\n",
    "best_aic_vars = stepwise_selection(X_train_interactions, y_train, criterion='AIC')\n",
    "best_bic_vars = stepwise_selection(X_train_interactions, y_train, criterion='BIC')\n",
    "print(\"Best AIC variables:\", best_aic_vars)\n",
    "print(\"Best BIC variables:\", best_bic_vars)"
   ]
  },
  {
   "cell_type": "markdown",
   "metadata": {},
   "source": [
    "## 6. Cross-Validation 이용"
   ]
  },
  {
   "cell_type": "code",
   "execution_count": 40,
   "metadata": {},
   "outputs": [
    {
     "name": "stdout",
     "output_type": "stream",
     "text": [
      "Best Cross-Validation variables: ('MedInc', 'HouseAge', 'AveRooms', 'AveBedrms', 'AveOccup', 'Latitude', 'Longitude', 'MedInc:HouseAge')\n"
     ]
    }
   ],
   "source": [
    "def select_best_cv(X, y):\n",
    "    best_mse = np.inf\n",
    "    best_model_cv = None\n",
    "    cv = KFold(n_splits=10, random_state=42, shuffle=True)\n",
    "    model = LinearRegression()\n",
    "    for k in range(1, len(X.columns) + 1):\n",
    "        for combo in combinations(X.columns, k):\n",
    "            X_combo = X[list(combo)]\n",
    "            mse = -np.mean(cross_val_score(model, X_combo, y, scoring='neg_mean_squared_error', cv=cv))\n",
    "            if mse < best_mse:\n",
    "                best_mse = mse\n",
    "                best_model_cv = combo\n",
    "    return best_model_cv\n",
    "\n",
    "best_cv_vars = select_best_cv(X_train_interactions, y_train)\n",
    "print(\"Best Cross-Validation variables:\", best_cv_vars)"
   ]
  },
  {
   "cell_type": "markdown",
   "metadata": {},
   "source": [
    "## 7. 최종선택"
   ]
  },
  {
   "cell_type": "code",
   "execution_count": 41,
   "metadata": {},
   "outputs": [
    {
     "name": "stdout",
     "output_type": "stream",
     "text": [
      "                            OLS Regression Results                            \n",
      "==============================================================================\n",
      "Dep. Variable:                  PRICE   R-squared:                       0.613\n",
      "Model:                            OLS   Adj. R-squared:                  0.613\n",
      "Method:                 Least Squares   F-statistic:                     2082.\n",
      "Date:                Tue, 20 Aug 2024   Prob (F-statistic):               0.00\n",
      "Time:                        13:33:35   Log-Likelihood:                -15748.\n",
      "No. Observations:               14448   AIC:                         3.152e+04\n",
      "Df Residuals:                   14436   BIC:                         3.161e+04\n",
      "Df Model:                          11                                         \n",
      "Covariance Type:            nonrobust                                         \n",
      "=====================================================================================\n",
      "                        coef    std err          t      P>|t|      [0.025      0.975]\n",
      "-------------------------------------------------------------------------------------\n",
      "const               -37.0172      0.780    -47.445      0.000     -38.546     -35.488\n",
      "MedInc                0.3744      0.009     39.453      0.000       0.356       0.393\n",
      "HouseAge              0.0072      0.001      4.913      0.000       0.004       0.010\n",
      "AveRooms             -0.1066      0.010    -10.274      0.000      -0.127      -0.086\n",
      "AveBedrms             0.7484      0.036     20.734      0.000       0.678       0.819\n",
      "AveOccup             -0.0602      0.006    -10.302      0.000      -0.072      -0.049\n",
      "Latitude             -0.4235      0.008    -50.016      0.000      -0.440      -0.407\n",
      "Longitude            -0.4371      0.009    -49.210      0.000      -0.455      -0.420\n",
      "MedInc:AveOccup       0.0041      0.000      9.429      0.000       0.003       0.005\n",
      "HouseAge:AveRooms    -0.0010      0.000     -3.672      0.000      -0.002      -0.000\n",
      "AveRooms:AveOccup     0.0050      0.001      9.557      0.000       0.004       0.006\n",
      "MedInc:HouseAge       0.0020      0.000      7.437      0.000       0.001       0.002\n",
      "==============================================================================\n",
      "Omnibus:                     3210.496   Durbin-Watson:                   1.966\n",
      "Prob(Omnibus):                  0.000   Jarque-Bera (JB):            11256.081\n",
      "Skew:                           1.098   Prob(JB):                         0.00\n",
      "Kurtosis:                       6.725   Cond. No.                     3.17e+04\n",
      "==============================================================================\n",
      "\n",
      "Notes:\n",
      "[1] Standard Errors assume that the covariance matrix of the errors is correctly specified.\n",
      "[2] The condition number is large, 3.17e+04. This might indicate that there are\n",
      "strong multicollinearity or other numerical problems.\n"
     ]
    }
   ],
   "source": [
    "final_model = sm.OLS(y_train, sm.add_constant(X_train_interactions[list(best_r2_adj_vars)])).fit()\n",
    "print(final_model.summary())"
   ]
  },
  {
   "cell_type": "code",
   "execution_count": 42,
   "metadata": {},
   "outputs": [
    {
     "data": {
      "image/png": "[encoded data removed]",
      "text/plain": [
       "<Figure size 640x480 with 1 Axes>"
      ]
     },
     "metadata": {},
     "output_type": "display_data"
    }
   ],
   "source": [
    "plt.scatter(y_test, final_model.predict(sm.add_constant(X_test_interactions[list(best_r2_adj_vars)])))\n",
    "plt.xlabel(\"Actual\")\n",
    "plt.ylabel(\"Predicted\")\n",
    "plt.title(\"Actual vs Predicted\")\n",
    "plt.show()"
   ]
  }
 ],
 "metadata": {
  "kernelspec": {
   "display_name": "myenv",
   "language": "python",
   "name": "python3"
  },
  "language_info": {
   "codemirror_mode": {
    "name": "ipython",
    "version": 3
   },
   "file_extension": ".py",
   "mimetype": "text/x-python",
   "name": "python",
   "nbconvert_exporter": "python",
   "pygments_lexer": "ipython3",
   "version": "3.12.5"
  }
 },
 "nbformat": 4,
 "nbformat_minor": 2
}
