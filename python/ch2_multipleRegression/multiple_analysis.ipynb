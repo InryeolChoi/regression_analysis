{
 "cells": [
  {
   "cell_type": "markdown",
   "metadata": {},
   "source": [
    "# 다중회귀\n"
   ]
  },
  {
   "cell_type": "markdown",
   "metadata": {},
   "source": [
    "$$\n",
    "Y = X\\beta + \\underline{\\epsilon} \\\\[5pt]\n",
    "\n",
    "\\underline{\\epsilon} \\sim MN(\\bold{0}, \\sigma^2 I)\n",
    "$$\n",
    "\n",
    "* 인제, $Y$는 벡터. $X$는 행렬, $\\beta$ 역시 벡터.  \n",
    "* 또한 오차항 $\\underline{\\epsilon}$는 기본적으로 다변량 정규분포.  \n",
    "* 따라서 선형대수에 대한 지식이 어느 정도 필요하다."
   ]
  },
  {
   "cell_type": "markdown",
   "metadata": {},
   "source": [
    "## 다중회귀의 추정\n",
    "* 다중회귀의 추정 역시 할 수 있으며, 4가지 가정이 지켜지다는 하에 OLS를 할 수 있다.\n",
    "* 당연한 이야기지만 벡터미적분을 알야아 실제적인 계산을 할 수 있다.\n",
    "\n",
    "$$\n",
    "\\frac{\\partial}{\\partial \\beta}~f(\\beta) = 0 \\\\[10pt]\n",
    "$$\n"
   ]
  },
  {
   "cell_type": "markdown",
   "metadata": {},
   "source": [
    "## 다중회귀의 검정\n",
    "\n",
    "본격적으로 F검정을 사용한다."
   ]
  },
  {
   "cell_type": "code",
   "execution_count": 1,
   "metadata": {},
   "outputs": [
    {
     "name": "stderr",
     "output_type": "stream",
     "text": [
      "Matplotlib is building the font cache; this may take a moment.\n"
     ]
    }
   ],
   "source": [
    "import numpy as np\n",
    "import pandas as pd\n",
    "import matplotlib.pyplot as plt\n",
    "import seaborn as sns"
   ]
  }
 ],
 "metadata": {
  "kernelspec": {
   "display_name": "myenv",
   "language": "python",
   "name": "python3"
  },
  "language_info": {
   "codemirror_mode": {
    "name": "ipython",
    "version": 3
   },
   "file_extension": ".py",
   "mimetype": "text/x-python",
   "name": "python",
   "nbconvert_exporter": "python",
   "pygments_lexer": "ipython3",
   "version": "3.12.4"
  }
 },
 "nbformat": 4,
 "nbformat_minor": 2
}
